{
 "cells": [
  {
   "cell_type": "markdown",
   "metadata": {},
   "source": [
    "Scaling & Transformations"
   ]
  },
  {
   "cell_type": "markdown",
   "metadata": {},
   "source": [
    "Scaling, Standardizing and Transformations are some of the important steps of numeric feature engineering. Machine Learning & Deep Learning algorithams are highly data quality dependent. If Data quality is not good even high performance algorithms are of no use, its as simple as Garbage In : Garbage Out. \n",
    "\n",
    "But despite of that, we see that oftenly Data Analysts and even experienced data scientists are confused around a good understanding of these terms. Some of the questions around them are, what are these well known but less understood terms and when to use which one? We should use them with which algorithms? \n",
    "\n"
   ]
  },
  {
   "cell_type": "code",
   "execution_count": 1,
   "metadata": {
    "ExecuteTime": {
     "end_time": "2020-03-22T08:36:50.871029Z",
     "start_time": "2020-03-22T08:36:49.375483Z"
    }
   },
   "outputs": [
    {
     "name": "stderr",
     "output_type": "stream",
     "text": [
      "/Users/shamanu/anaconda3/lib/python3.6/site-packages/h5py/__init__.py:34: FutureWarning: Conversion of the second argument of issubdtype from `float` to `np.floating` is deprecated. In future, it will be treated as `np.float64 == np.dtype(float).type`.\n",
      "  from ._conv import register_converters as _register_converters\n",
      "Using TensorFlow backend.\n"
     ]
    }
   ],
   "source": [
    "from imblearn.over_sampling import SMOTE"
   ]
  },
  {
   "cell_type": "code",
   "execution_count": 2,
   "metadata": {
    "ExecuteTime": {
     "end_time": "2020-03-22T08:36:50.883059Z",
     "start_time": "2020-03-22T08:36:50.873002Z"
    }
   },
   "outputs": [
    {
     "data": {
      "text/plain": [
       "'/Users/shamanu/Documents/bash/medium'"
      ]
     },
     "execution_count": 2,
     "metadata": {},
     "output_type": "execute_result"
    }
   ],
   "source": [
    "import os\n",
    "os.getcwd()"
   ]
  },
  {
   "cell_type": "code",
   "execution_count": 3,
   "metadata": {
    "ExecuteTime": {
     "end_time": "2020-03-22T08:36:51.045959Z",
     "start_time": "2020-03-22T08:36:50.884672Z"
    }
   },
   "outputs": [],
   "source": [
    "import pandas as pd\n",
    "import numpy as np\n",
    "from scipy import stats\n",
    "import seaborn as sns\n",
    "import matplotlib.pyplot as plt\n",
    "%matplotlib inline\n",
    "\n",
    "from sklearn import preprocessing\n",
    "\n"
   ]
  },
  {
   "cell_type": "markdown",
   "metadata": {},
   "source": [
    "Following datafile is taken from Home Credit Default Risk. Data is collated around to predict clients' repayment abilities. Following Data is for all applications, One row represents one loan in our data sample.\n",
    " \n",
    "\n",
    "Following dataset explains how capabale each applicant is of repaying a loan ? Loaded file is a main data file. Obviously using additional data is necessary to improve score. But for this exercise we are using just the main data file."
   ]
  },
  {
   "cell_type": "markdown",
   "metadata": {},
   "source": [
    "DataSet can be downloaded from: - [Data](https://www.kaggle.com/c/home-credit-default-risk/data)"
   ]
  },
  {
   "cell_type": "code",
   "execution_count": 4,
   "metadata": {
    "ExecuteTime": {
     "end_time": "2020-03-22T08:36:57.568658Z",
     "start_time": "2020-03-22T08:36:54.318305Z"
    }
   },
   "outputs": [
    {
     "name": "stdout",
     "output_type": "stream",
     "text": [
      "Shape of the Data (307511, 122)\n"
     ]
    },
    {
     "data": {
      "text/html": [
       "<div>\n",
       "<style scoped>\n",
       "    .dataframe tbody tr th:only-of-type {\n",
       "        vertical-align: middle;\n",
       "    }\n",
       "\n",
       "    .dataframe tbody tr th {\n",
       "        vertical-align: top;\n",
       "    }\n",
       "\n",
       "    .dataframe thead th {\n",
       "        text-align: right;\n",
       "    }\n",
       "</style>\n",
       "<table border=\"1\" class=\"dataframe\">\n",
       "  <thead>\n",
       "    <tr style=\"text-align: right;\">\n",
       "      <th></th>\n",
       "      <th>SK_ID_CURR</th>\n",
       "      <th>TARGET</th>\n",
       "      <th>NAME_CONTRACT_TYPE</th>\n",
       "      <th>CODE_GENDER</th>\n",
       "      <th>FLAG_OWN_CAR</th>\n",
       "      <th>FLAG_OWN_REALTY</th>\n",
       "      <th>CNT_CHILDREN</th>\n",
       "      <th>AMT_INCOME_TOTAL</th>\n",
       "      <th>AMT_CREDIT</th>\n",
       "      <th>AMT_ANNUITY</th>\n",
       "      <th>...</th>\n",
       "      <th>FLAG_DOCUMENT_18</th>\n",
       "      <th>FLAG_DOCUMENT_19</th>\n",
       "      <th>FLAG_DOCUMENT_20</th>\n",
       "      <th>FLAG_DOCUMENT_21</th>\n",
       "      <th>AMT_REQ_CREDIT_BUREAU_HOUR</th>\n",
       "      <th>AMT_REQ_CREDIT_BUREAU_DAY</th>\n",
       "      <th>AMT_REQ_CREDIT_BUREAU_WEEK</th>\n",
       "      <th>AMT_REQ_CREDIT_BUREAU_MON</th>\n",
       "      <th>AMT_REQ_CREDIT_BUREAU_QRT</th>\n",
       "      <th>AMT_REQ_CREDIT_BUREAU_YEAR</th>\n",
       "    </tr>\n",
       "  </thead>\n",
       "  <tbody>\n",
       "    <tr>\n",
       "      <th>0</th>\n",
       "      <td>100002</td>\n",
       "      <td>1</td>\n",
       "      <td>Cash loans</td>\n",
       "      <td>M</td>\n",
       "      <td>N</td>\n",
       "      <td>Y</td>\n",
       "      <td>0</td>\n",
       "      <td>202500.0</td>\n",
       "      <td>406597.5</td>\n",
       "      <td>24700.5</td>\n",
       "      <td>...</td>\n",
       "      <td>0</td>\n",
       "      <td>0</td>\n",
       "      <td>0</td>\n",
       "      <td>0</td>\n",
       "      <td>0.0</td>\n",
       "      <td>0.0</td>\n",
       "      <td>0.0</td>\n",
       "      <td>0.0</td>\n",
       "      <td>0.0</td>\n",
       "      <td>1.0</td>\n",
       "    </tr>\n",
       "    <tr>\n",
       "      <th>1</th>\n",
       "      <td>100003</td>\n",
       "      <td>0</td>\n",
       "      <td>Cash loans</td>\n",
       "      <td>F</td>\n",
       "      <td>N</td>\n",
       "      <td>N</td>\n",
       "      <td>0</td>\n",
       "      <td>270000.0</td>\n",
       "      <td>1293502.5</td>\n",
       "      <td>35698.5</td>\n",
       "      <td>...</td>\n",
       "      <td>0</td>\n",
       "      <td>0</td>\n",
       "      <td>0</td>\n",
       "      <td>0</td>\n",
       "      <td>0.0</td>\n",
       "      <td>0.0</td>\n",
       "      <td>0.0</td>\n",
       "      <td>0.0</td>\n",
       "      <td>0.0</td>\n",
       "      <td>0.0</td>\n",
       "    </tr>\n",
       "    <tr>\n",
       "      <th>2</th>\n",
       "      <td>100004</td>\n",
       "      <td>0</td>\n",
       "      <td>Revolving loans</td>\n",
       "      <td>M</td>\n",
       "      <td>Y</td>\n",
       "      <td>Y</td>\n",
       "      <td>0</td>\n",
       "      <td>67500.0</td>\n",
       "      <td>135000.0</td>\n",
       "      <td>6750.0</td>\n",
       "      <td>...</td>\n",
       "      <td>0</td>\n",
       "      <td>0</td>\n",
       "      <td>0</td>\n",
       "      <td>0</td>\n",
       "      <td>0.0</td>\n",
       "      <td>0.0</td>\n",
       "      <td>0.0</td>\n",
       "      <td>0.0</td>\n",
       "      <td>0.0</td>\n",
       "      <td>0.0</td>\n",
       "    </tr>\n",
       "    <tr>\n",
       "      <th>3</th>\n",
       "      <td>100006</td>\n",
       "      <td>0</td>\n",
       "      <td>Cash loans</td>\n",
       "      <td>F</td>\n",
       "      <td>N</td>\n",
       "      <td>Y</td>\n",
       "      <td>0</td>\n",
       "      <td>135000.0</td>\n",
       "      <td>312682.5</td>\n",
       "      <td>29686.5</td>\n",
       "      <td>...</td>\n",
       "      <td>0</td>\n",
       "      <td>0</td>\n",
       "      <td>0</td>\n",
       "      <td>0</td>\n",
       "      <td>NaN</td>\n",
       "      <td>NaN</td>\n",
       "      <td>NaN</td>\n",
       "      <td>NaN</td>\n",
       "      <td>NaN</td>\n",
       "      <td>NaN</td>\n",
       "    </tr>\n",
       "    <tr>\n",
       "      <th>4</th>\n",
       "      <td>100007</td>\n",
       "      <td>0</td>\n",
       "      <td>Cash loans</td>\n",
       "      <td>M</td>\n",
       "      <td>N</td>\n",
       "      <td>Y</td>\n",
       "      <td>0</td>\n",
       "      <td>121500.0</td>\n",
       "      <td>513000.0</td>\n",
       "      <td>21865.5</td>\n",
       "      <td>...</td>\n",
       "      <td>0</td>\n",
       "      <td>0</td>\n",
       "      <td>0</td>\n",
       "      <td>0</td>\n",
       "      <td>0.0</td>\n",
       "      <td>0.0</td>\n",
       "      <td>0.0</td>\n",
       "      <td>0.0</td>\n",
       "      <td>0.0</td>\n",
       "      <td>0.0</td>\n",
       "    </tr>\n",
       "  </tbody>\n",
       "</table>\n",
       "<p>5 rows × 122 columns</p>\n",
       "</div>"
      ],
      "text/plain": [
       "   SK_ID_CURR  TARGET NAME_CONTRACT_TYPE CODE_GENDER FLAG_OWN_CAR  \\\n",
       "0      100002       1         Cash loans           M            N   \n",
       "1      100003       0         Cash loans           F            N   \n",
       "2      100004       0    Revolving loans           M            Y   \n",
       "3      100006       0         Cash loans           F            N   \n",
       "4      100007       0         Cash loans           M            N   \n",
       "\n",
       "  FLAG_OWN_REALTY  CNT_CHILDREN  AMT_INCOME_TOTAL  AMT_CREDIT  AMT_ANNUITY  \\\n",
       "0               Y             0          202500.0    406597.5      24700.5   \n",
       "1               N             0          270000.0   1293502.5      35698.5   \n",
       "2               Y             0           67500.0    135000.0       6750.0   \n",
       "3               Y             0          135000.0    312682.5      29686.5   \n",
       "4               Y             0          121500.0    513000.0      21865.5   \n",
       "\n",
       "              ...              FLAG_DOCUMENT_18 FLAG_DOCUMENT_19  \\\n",
       "0             ...                             0                0   \n",
       "1             ...                             0                0   \n",
       "2             ...                             0                0   \n",
       "3             ...                             0                0   \n",
       "4             ...                             0                0   \n",
       "\n",
       "  FLAG_DOCUMENT_20 FLAG_DOCUMENT_21 AMT_REQ_CREDIT_BUREAU_HOUR  \\\n",
       "0                0                0                        0.0   \n",
       "1                0                0                        0.0   \n",
       "2                0                0                        0.0   \n",
       "3                0                0                        NaN   \n",
       "4                0                0                        0.0   \n",
       "\n",
       "  AMT_REQ_CREDIT_BUREAU_DAY  AMT_REQ_CREDIT_BUREAU_WEEK  \\\n",
       "0                       0.0                         0.0   \n",
       "1                       0.0                         0.0   \n",
       "2                       0.0                         0.0   \n",
       "3                       NaN                         NaN   \n",
       "4                       0.0                         0.0   \n",
       "\n",
       "   AMT_REQ_CREDIT_BUREAU_MON  AMT_REQ_CREDIT_BUREAU_QRT  \\\n",
       "0                        0.0                        0.0   \n",
       "1                        0.0                        0.0   \n",
       "2                        0.0                        0.0   \n",
       "3                        NaN                        NaN   \n",
       "4                        0.0                        0.0   \n",
       "\n",
       "   AMT_REQ_CREDIT_BUREAU_YEAR  \n",
       "0                         1.0  \n",
       "1                         0.0  \n",
       "2                         0.0  \n",
       "3                         NaN  \n",
       "4                         0.0  \n",
       "\n",
       "[5 rows x 122 columns]"
      ]
     },
     "execution_count": 4,
     "metadata": {},
     "output_type": "execute_result"
    }
   ],
   "source": [
    "a = pd.read_csv('/Users/shamanu/Documents/bash/Data_Science/data/application_train.csv')\n",
    "#a = pd.read_csv('/Users/shamanu/Documents/bash/Data_Science/data/hotel_bookings.csv')\n",
    "\n",
    "\n",
    "\n",
    "print('Shape of the Data {}'.format(a.shape))\n",
    "a.head()"
   ]
  },
  {
   "cell_type": "code",
   "execution_count": 5,
   "metadata": {
    "ExecuteTime": {
     "end_time": "2020-03-22T08:36:57.574745Z",
     "start_time": "2020-03-22T08:36:57.570188Z"
    }
   },
   "outputs": [
    {
     "data": {
      "text/plain": [
       "['SK_ID_CURR',\n",
       " 'TARGET',\n",
       " 'NAME_CONTRACT_TYPE',\n",
       " 'CODE_GENDER',\n",
       " 'FLAG_OWN_CAR',\n",
       " 'FLAG_OWN_REALTY',\n",
       " 'CNT_CHILDREN',\n",
       " 'AMT_INCOME_TOTAL',\n",
       " 'AMT_CREDIT',\n",
       " 'AMT_ANNUITY',\n",
       " 'AMT_GOODS_PRICE',\n",
       " 'NAME_TYPE_SUITE',\n",
       " 'NAME_INCOME_TYPE',\n",
       " 'NAME_EDUCATION_TYPE',\n",
       " 'NAME_FAMILY_STATUS',\n",
       " 'NAME_HOUSING_TYPE',\n",
       " 'REGION_POPULATION_RELATIVE',\n",
       " 'DAYS_BIRTH',\n",
       " 'DAYS_EMPLOYED',\n",
       " 'DAYS_REGISTRATION',\n",
       " 'DAYS_ID_PUBLISH',\n",
       " 'OWN_CAR_AGE',\n",
       " 'FLAG_MOBIL',\n",
       " 'FLAG_EMP_PHONE',\n",
       " 'FLAG_WORK_PHONE',\n",
       " 'FLAG_CONT_MOBILE',\n",
       " 'FLAG_PHONE',\n",
       " 'FLAG_EMAIL',\n",
       " 'OCCUPATION_TYPE',\n",
       " 'CNT_FAM_MEMBERS',\n",
       " 'REGION_RATING_CLIENT',\n",
       " 'REGION_RATING_CLIENT_W_CITY',\n",
       " 'WEEKDAY_APPR_PROCESS_START',\n",
       " 'HOUR_APPR_PROCESS_START',\n",
       " 'REG_REGION_NOT_LIVE_REGION',\n",
       " 'REG_REGION_NOT_WORK_REGION',\n",
       " 'LIVE_REGION_NOT_WORK_REGION',\n",
       " 'REG_CITY_NOT_LIVE_CITY',\n",
       " 'REG_CITY_NOT_WORK_CITY',\n",
       " 'LIVE_CITY_NOT_WORK_CITY',\n",
       " 'ORGANIZATION_TYPE',\n",
       " 'EXT_SOURCE_1',\n",
       " 'EXT_SOURCE_2',\n",
       " 'EXT_SOURCE_3',\n",
       " 'APARTMENTS_AVG',\n",
       " 'BASEMENTAREA_AVG',\n",
       " 'YEARS_BEGINEXPLUATATION_AVG',\n",
       " 'YEARS_BUILD_AVG',\n",
       " 'COMMONAREA_AVG',\n",
       " 'ELEVATORS_AVG',\n",
       " 'ENTRANCES_AVG',\n",
       " 'FLOORSMAX_AVG',\n",
       " 'FLOORSMIN_AVG',\n",
       " 'LANDAREA_AVG',\n",
       " 'LIVINGAPARTMENTS_AVG',\n",
       " 'LIVINGAREA_AVG',\n",
       " 'NONLIVINGAPARTMENTS_AVG',\n",
       " 'NONLIVINGAREA_AVG',\n",
       " 'APARTMENTS_MODE',\n",
       " 'BASEMENTAREA_MODE',\n",
       " 'YEARS_BEGINEXPLUATATION_MODE',\n",
       " 'YEARS_BUILD_MODE',\n",
       " 'COMMONAREA_MODE',\n",
       " 'ELEVATORS_MODE',\n",
       " 'ENTRANCES_MODE',\n",
       " 'FLOORSMAX_MODE',\n",
       " 'FLOORSMIN_MODE',\n",
       " 'LANDAREA_MODE',\n",
       " 'LIVINGAPARTMENTS_MODE',\n",
       " 'LIVINGAREA_MODE',\n",
       " 'NONLIVINGAPARTMENTS_MODE',\n",
       " 'NONLIVINGAREA_MODE',\n",
       " 'APARTMENTS_MEDI',\n",
       " 'BASEMENTAREA_MEDI',\n",
       " 'YEARS_BEGINEXPLUATATION_MEDI',\n",
       " 'YEARS_BUILD_MEDI',\n",
       " 'COMMONAREA_MEDI',\n",
       " 'ELEVATORS_MEDI',\n",
       " 'ENTRANCES_MEDI',\n",
       " 'FLOORSMAX_MEDI',\n",
       " 'FLOORSMIN_MEDI',\n",
       " 'LANDAREA_MEDI',\n",
       " 'LIVINGAPARTMENTS_MEDI',\n",
       " 'LIVINGAREA_MEDI',\n",
       " 'NONLIVINGAPARTMENTS_MEDI',\n",
       " 'NONLIVINGAREA_MEDI',\n",
       " 'FONDKAPREMONT_MODE',\n",
       " 'HOUSETYPE_MODE',\n",
       " 'TOTALAREA_MODE',\n",
       " 'WALLSMATERIAL_MODE',\n",
       " 'EMERGENCYSTATE_MODE',\n",
       " 'OBS_30_CNT_SOCIAL_CIRCLE',\n",
       " 'DEF_30_CNT_SOCIAL_CIRCLE',\n",
       " 'OBS_60_CNT_SOCIAL_CIRCLE',\n",
       " 'DEF_60_CNT_SOCIAL_CIRCLE',\n",
       " 'DAYS_LAST_PHONE_CHANGE',\n",
       " 'FLAG_DOCUMENT_2',\n",
       " 'FLAG_DOCUMENT_3',\n",
       " 'FLAG_DOCUMENT_4',\n",
       " 'FLAG_DOCUMENT_5',\n",
       " 'FLAG_DOCUMENT_6',\n",
       " 'FLAG_DOCUMENT_7',\n",
       " 'FLAG_DOCUMENT_8',\n",
       " 'FLAG_DOCUMENT_9',\n",
       " 'FLAG_DOCUMENT_10',\n",
       " 'FLAG_DOCUMENT_11',\n",
       " 'FLAG_DOCUMENT_12',\n",
       " 'FLAG_DOCUMENT_13',\n",
       " 'FLAG_DOCUMENT_14',\n",
       " 'FLAG_DOCUMENT_15',\n",
       " 'FLAG_DOCUMENT_16',\n",
       " 'FLAG_DOCUMENT_17',\n",
       " 'FLAG_DOCUMENT_18',\n",
       " 'FLAG_DOCUMENT_19',\n",
       " 'FLAG_DOCUMENT_20',\n",
       " 'FLAG_DOCUMENT_21',\n",
       " 'AMT_REQ_CREDIT_BUREAU_HOUR',\n",
       " 'AMT_REQ_CREDIT_BUREAU_DAY',\n",
       " 'AMT_REQ_CREDIT_BUREAU_WEEK',\n",
       " 'AMT_REQ_CREDIT_BUREAU_MON',\n",
       " 'AMT_REQ_CREDIT_BUREAU_QRT',\n",
       " 'AMT_REQ_CREDIT_BUREAU_YEAR']"
      ]
     },
     "execution_count": 5,
     "metadata": {},
     "output_type": "execute_result"
    }
   ],
   "source": [
    "list(a.columns)"
   ]
  },
  {
   "cell_type": "markdown",
   "metadata": {},
   "source": [
    "Some of the important explanatory features are \n",
    "\n",
    "1. AMT_INCOME_TOTAL \n",
    "2. AMT_CREDIT \n",
    "3. age \n",
    "4. DAYS_EMPLOYED \n",
    "5. OWN_CAR_AGE \n",
    "6. AMT_GOODS_PRICE \n",
    "7. AMT_ANNUITY"
   ]
  },
  {
   "cell_type": "code",
   "execution_count": 6,
   "metadata": {
    "ExecuteTime": {
     "end_time": "2020-03-22T08:37:10.694242Z",
     "start_time": "2020-03-22T08:37:10.691490Z"
    }
   },
   "outputs": [],
   "source": [
    "cols = ['AMT_INCOME_TOTAL', 'AMT_CREDIT', 'DAYS_BIRTH', 'OWN_CAR_AGE', 'AMT_GOODS_PRICE', 'AMT_ANNUITY']\n",
    "\n",
    "# cols = [\"lead_time\",\"arrival_date_week_number\",\"arrival_date_day_of_month\",\n",
    "#                 \"stays_in_weekend_nights\",\"stays_in_week_nights\",\"adults\",\"children\",\n",
    "#                 \"babies\", \n",
    "#                 \"agent\",\"company\",\n",
    "#                 \"required_car_parking_spaces\", \"total_of_special_requests\", \"adr\"]\n",
    "\n",
    "\n",
    "\n",
    "\n",
    "response= ['TARGET']\n",
    "#response= ['is_canceled']"
   ]
  },
  {
   "cell_type": "code",
   "execution_count": 8,
   "metadata": {
    "ExecuteTime": {
     "end_time": "2020-03-22T08:37:18.451724Z",
     "start_time": "2020-03-22T08:37:18.278866Z"
    }
   },
   "outputs": [],
   "source": [
    "a['DAYS_BIRTH']= a['DAYS_BIRTH'] / -365"
   ]
  },
  {
   "cell_type": "markdown",
   "metadata": {},
   "source": [
    "In Real Life Work, we mostly see skewed kind of numeric distribution"
   ]
  },
  {
   "cell_type": "code",
   "execution_count": 9,
   "metadata": {
    "ExecuteTime": {
     "end_time": "2020-03-22T08:37:22.257129Z",
     "start_time": "2020-03-22T08:37:21.193363Z"
    }
   },
   "outputs": [
    {
     "data": {
      "image/png": "[encoded data removed]",
      "text/plain": [
       "<Figure size 1152x720 with 6 Axes>"
      ]
     },
     "metadata": {
      "needs_background": "light"
     },
     "output_type": "display_data"
    }
   ],
   "source": [
    "a[cols].hist(figsize = (16, 10));"
   ]
  },
  {
   "cell_type": "markdown",
   "metadata": {},
   "source": [
    "And our target Feature distribution is like "
   ]
  },
  {
   "cell_type": "code",
   "execution_count": 10,
   "metadata": {
    "ExecuteTime": {
     "end_time": "2020-03-22T08:37:26.064918Z",
     "start_time": "2020-03-22T08:37:25.908556Z"
    }
   },
   "outputs": [
    {
     "data": {
      "image/png": "[encoded data removed]",
      "text/plain": [
       "<Figure size 1152x432 with 1 Axes>"
      ]
     },
     "metadata": {},
     "output_type": "display_data"
    }
   ],
   "source": [
    "a['TARGET'].value_counts().plot.pie(legend= True, figsize = (16,6), autopct = '%1.1f%%');"
   ]
  },
  {
   "cell_type": "markdown",
   "metadata": {},
   "source": [
    "Histogram is a good way to start with numeric features, it explains a lot around numeric features \n",
    "\n",
    "Two important things to note before we proceed \n",
    "\n",
    "1. Almost all the features are skewed at first glance except days of birth.\n",
    "2. Features has totally different ranges"
   ]
  },
  {
   "cell_type": "code",
   "execution_count": 11,
   "metadata": {
    "ExecuteTime": {
     "end_time": "2020-03-22T08:37:45.615067Z",
     "start_time": "2020-03-22T08:37:45.602037Z"
    }
   },
   "outputs": [
    {
     "data": {
      "text/html": [
       "<div>\n",
       "<style scoped>\n",
       "    .dataframe tbody tr th:only-of-type {\n",
       "        vertical-align: middle;\n",
       "    }\n",
       "\n",
       "    .dataframe tbody tr th {\n",
       "        vertical-align: top;\n",
       "    }\n",
       "\n",
       "    .dataframe thead th {\n",
       "        text-align: right;\n",
       "    }\n",
       "</style>\n",
       "<table border=\"1\" class=\"dataframe\">\n",
       "  <thead>\n",
       "    <tr style=\"text-align: right;\">\n",
       "      <th></th>\n",
       "      <th>AMT_INCOME_TOTAL</th>\n",
       "      <th>AMT_CREDIT</th>\n",
       "      <th>DAYS_BIRTH</th>\n",
       "      <th>OWN_CAR_AGE</th>\n",
       "      <th>AMT_GOODS_PRICE</th>\n",
       "      <th>AMT_ANNUITY</th>\n",
       "    </tr>\n",
       "  </thead>\n",
       "  <tbody>\n",
       "    <tr>\n",
       "      <th>0</th>\n",
       "      <td>202500.0</td>\n",
       "      <td>406597.5</td>\n",
       "      <td>25.920548</td>\n",
       "      <td>NaN</td>\n",
       "      <td>351000.0</td>\n",
       "      <td>24700.5</td>\n",
       "    </tr>\n",
       "    <tr>\n",
       "      <th>1</th>\n",
       "      <td>270000.0</td>\n",
       "      <td>1293502.5</td>\n",
       "      <td>45.931507</td>\n",
       "      <td>NaN</td>\n",
       "      <td>1129500.0</td>\n",
       "      <td>35698.5</td>\n",
       "    </tr>\n",
       "    <tr>\n",
       "      <th>2</th>\n",
       "      <td>67500.0</td>\n",
       "      <td>135000.0</td>\n",
       "      <td>52.180822</td>\n",
       "      <td>26.0</td>\n",
       "      <td>135000.0</td>\n",
       "      <td>6750.0</td>\n",
       "    </tr>\n",
       "    <tr>\n",
       "      <th>3</th>\n",
       "      <td>135000.0</td>\n",
       "      <td>312682.5</td>\n",
       "      <td>52.068493</td>\n",
       "      <td>NaN</td>\n",
       "      <td>297000.0</td>\n",
       "      <td>29686.5</td>\n",
       "    </tr>\n",
       "    <tr>\n",
       "      <th>4</th>\n",
       "      <td>121500.0</td>\n",
       "      <td>513000.0</td>\n",
       "      <td>54.608219</td>\n",
       "      <td>NaN</td>\n",
       "      <td>513000.0</td>\n",
       "      <td>21865.5</td>\n",
       "    </tr>\n",
       "  </tbody>\n",
       "</table>\n",
       "</div>"
      ],
      "text/plain": [
       "   AMT_INCOME_TOTAL  AMT_CREDIT  DAYS_BIRTH  OWN_CAR_AGE  AMT_GOODS_PRICE  \\\n",
       "0          202500.0    406597.5   25.920548          NaN         351000.0   \n",
       "1          270000.0   1293502.5   45.931507          NaN        1129500.0   \n",
       "2           67500.0    135000.0   52.180822         26.0         135000.0   \n",
       "3          135000.0    312682.5   52.068493          NaN         297000.0   \n",
       "4          121500.0    513000.0   54.608219          NaN         513000.0   \n",
       "\n",
       "   AMT_ANNUITY  \n",
       "0      24700.5  \n",
       "1      35698.5  \n",
       "2       6750.0  \n",
       "3      29686.5  \n",
       "4      21865.5  "
      ]
     },
     "execution_count": 11,
     "metadata": {},
     "output_type": "execute_result"
    }
   ],
   "source": [
    "df = a[cols]\n",
    "#df['DAYS_BIRTH'] = abs(df['DAYS_BIRTH']/365)\n",
    "df.head()"
   ]
  },
  {
   "cell_type": "code",
   "execution_count": 12,
   "metadata": {
    "ExecuteTime": {
     "end_time": "2020-03-22T08:37:48.785083Z",
     "start_time": "2020-03-22T08:37:48.750400Z"
    }
   },
   "outputs": [
    {
     "data": {
      "text/plain": [
       "AMT_INCOME_TOTAL         0\n",
       "AMT_CREDIT               0\n",
       "DAYS_BIRTH               0\n",
       "OWN_CAR_AGE         202929\n",
       "AMT_GOODS_PRICE        278\n",
       "AMT_ANNUITY             12\n",
       "dtype: int64"
      ]
     },
     "execution_count": 12,
     "metadata": {},
     "output_type": "execute_result"
    }
   ],
   "source": [
    "df.isnull().sum()"
   ]
  },
  {
   "cell_type": "code",
   "execution_count": 13,
   "metadata": {
    "ExecuteTime": {
     "end_time": "2020-03-22T08:37:54.344290Z",
     "start_time": "2020-03-22T08:37:54.265753Z"
    },
    "scrolled": true
   },
   "outputs": [
    {
     "name": "stderr",
     "output_type": "stream",
     "text": [
      "/Users/shamanu/anaconda3/lib/python3.6/site-packages/pandas/core/frame.py:3790: SettingWithCopyWarning: \n",
      "A value is trying to be set on a copy of a slice from a DataFrame\n",
      "\n",
      "See the caveats in the documentation: http://pandas.pydata.org/pandas-docs/stable/indexing.html#indexing-view-versus-copy\n",
      "  downcast=downcast, **kwargs)\n"
     ]
    }
   ],
   "source": [
    "df.fillna(0, inplace = True)"
   ]
  },
  {
   "cell_type": "code",
   "execution_count": 14,
   "metadata": {
    "ExecuteTime": {
     "end_time": "2020-03-22T08:37:54.754471Z",
     "start_time": "2020-03-22T08:37:54.658678Z"
    },
    "scrolled": true
   },
   "outputs": [
    {
     "name": "stderr",
     "output_type": "stream",
     "text": [
      "/Users/shamanu/anaconda3/lib/python3.6/site-packages/ipykernel_launcher.py:1: SettingWithCopyWarning: \n",
      "A value is trying to be set on a copy of a slice from a DataFrame\n",
      "\n",
      "See the caveats in the documentation: http://pandas.pydata.org/pandas-docs/stable/indexing.html#indexing-view-versus-copy\n",
      "  \"\"\"Entry point for launching an IPython kernel.\n"
     ]
    }
   ],
   "source": [
    "df.dropna(inplace = True)"
   ]
  },
  {
   "cell_type": "code",
   "execution_count": 15,
   "metadata": {
    "ExecuteTime": {
     "end_time": "2020-03-22T08:38:02.074888Z",
     "start_time": "2020-03-22T08:38:01.361217Z"
    }
   },
   "outputs": [
    {
     "data": {
      "image/png": "[encoded data removed]",
      "text/plain": [
       "<Figure size 1440x432 with 1 Axes>"
      ]
     },
     "metadata": {
      "needs_background": "light"
     },
     "output_type": "display_data"
    }
   ],
   "source": [
    "plt.figure(figsize = (20,6));\n",
    "sns.boxplot(x = 'variable', y = 'value',data =df.melt()).set_title('Original Feature Box Plots');"
   ]
  },
  {
   "cell_type": "code",
   "execution_count": 137,
   "metadata": {
    "ExecuteTime": {
     "end_time": "2020-03-13T09:27:26.802294Z",
     "start_time": "2020-03-13T09:27:26.678190Z"
    }
   },
   "outputs": [
    {
     "data": {
      "text/html": [
       "<div>\n",
       "<style scoped>\n",
       "    .dataframe tbody tr th:only-of-type {\n",
       "        vertical-align: middle;\n",
       "    }\n",
       "\n",
       "    .dataframe tbody tr th {\n",
       "        vertical-align: top;\n",
       "    }\n",
       "\n",
       "    .dataframe thead th {\n",
       "        text-align: right;\n",
       "    }\n",
       "</style>\n",
       "<table border=\"1\" class=\"dataframe\">\n",
       "  <thead>\n",
       "    <tr style=\"text-align: right;\">\n",
       "      <th></th>\n",
       "      <th>AMT_INCOME_TOTAL</th>\n",
       "      <th>AMT_CREDIT</th>\n",
       "      <th>DAYS_BIRTH</th>\n",
       "      <th>OWN_CAR_AGE</th>\n",
       "      <th>AMT_GOODS_PRICE</th>\n",
       "      <th>AMT_ANNUITY</th>\n",
       "    </tr>\n",
       "  </thead>\n",
       "  <tbody>\n",
       "    <tr>\n",
       "      <th>count</th>\n",
       "      <td>3.075110e+05</td>\n",
       "      <td>3.075110e+05</td>\n",
       "      <td>307511.000000</td>\n",
       "      <td>104582.000000</td>\n",
       "      <td>3.072330e+05</td>\n",
       "      <td>307499.000000</td>\n",
       "    </tr>\n",
       "    <tr>\n",
       "      <th>mean</th>\n",
       "      <td>1.687979e+05</td>\n",
       "      <td>5.990260e+05</td>\n",
       "      <td>43.936973</td>\n",
       "      <td>12.061091</td>\n",
       "      <td>5.383962e+05</td>\n",
       "      <td>27108.573909</td>\n",
       "    </tr>\n",
       "    <tr>\n",
       "      <th>std</th>\n",
       "      <td>2.371231e+05</td>\n",
       "      <td>4.024908e+05</td>\n",
       "      <td>11.956133</td>\n",
       "      <td>11.944812</td>\n",
       "      <td>3.694465e+05</td>\n",
       "      <td>14493.737315</td>\n",
       "    </tr>\n",
       "    <tr>\n",
       "      <th>min</th>\n",
       "      <td>2.565000e+04</td>\n",
       "      <td>4.500000e+04</td>\n",
       "      <td>20.517808</td>\n",
       "      <td>0.000000</td>\n",
       "      <td>4.050000e+04</td>\n",
       "      <td>1615.500000</td>\n",
       "    </tr>\n",
       "    <tr>\n",
       "      <th>25%</th>\n",
       "      <td>1.125000e+05</td>\n",
       "      <td>2.700000e+05</td>\n",
       "      <td>34.008219</td>\n",
       "      <td>5.000000</td>\n",
       "      <td>2.385000e+05</td>\n",
       "      <td>16524.000000</td>\n",
       "    </tr>\n",
       "    <tr>\n",
       "      <th>50%</th>\n",
       "      <td>1.471500e+05</td>\n",
       "      <td>5.135310e+05</td>\n",
       "      <td>43.150685</td>\n",
       "      <td>9.000000</td>\n",
       "      <td>4.500000e+05</td>\n",
       "      <td>24903.000000</td>\n",
       "    </tr>\n",
       "    <tr>\n",
       "      <th>75%</th>\n",
       "      <td>2.025000e+05</td>\n",
       "      <td>8.086500e+05</td>\n",
       "      <td>53.923288</td>\n",
       "      <td>15.000000</td>\n",
       "      <td>6.795000e+05</td>\n",
       "      <td>34596.000000</td>\n",
       "    </tr>\n",
       "    <tr>\n",
       "      <th>max</th>\n",
       "      <td>1.170000e+08</td>\n",
       "      <td>4.050000e+06</td>\n",
       "      <td>69.120548</td>\n",
       "      <td>91.000000</td>\n",
       "      <td>4.050000e+06</td>\n",
       "      <td>258025.500000</td>\n",
       "    </tr>\n",
       "  </tbody>\n",
       "</table>\n",
       "</div>"
      ],
      "text/plain": [
       "       AMT_INCOME_TOTAL    AMT_CREDIT     DAYS_BIRTH    OWN_CAR_AGE  \\\n",
       "count      3.075110e+05  3.075110e+05  307511.000000  104582.000000   \n",
       "mean       1.687979e+05  5.990260e+05      43.936973      12.061091   \n",
       "std        2.371231e+05  4.024908e+05      11.956133      11.944812   \n",
       "min        2.565000e+04  4.500000e+04      20.517808       0.000000   \n",
       "25%        1.125000e+05  2.700000e+05      34.008219       5.000000   \n",
       "50%        1.471500e+05  5.135310e+05      43.150685       9.000000   \n",
       "75%        2.025000e+05  8.086500e+05      53.923288      15.000000   \n",
       "max        1.170000e+08  4.050000e+06      69.120548      91.000000   \n",
       "\n",
       "       AMT_GOODS_PRICE    AMT_ANNUITY  \n",
       "count     3.072330e+05  307499.000000  \n",
       "mean      5.383962e+05   27108.573909  \n",
       "std       3.694465e+05   14493.737315  \n",
       "min       4.050000e+04    1615.500000  \n",
       "25%       2.385000e+05   16524.000000  \n",
       "50%       4.500000e+05   24903.000000  \n",
       "75%       6.795000e+05   34596.000000  \n",
       "max       4.050000e+06  258025.500000  "
      ]
     },
     "execution_count": 137,
     "metadata": {},
     "output_type": "execute_result"
    }
   ],
   "source": [
    "df.describe()"
   ]
  },
  {
   "cell_type": "markdown",
   "metadata": {},
   "source": [
    "When Transformation is required on Numeric features?\n",
    "\n",
    "Transformations are important when our numeric features is skewed, Skewness can be beacuse of two reasons\n",
    "\n",
    "Either because of extreme outliers, which may or may not be important to us.\n",
    "Or Its natural distribution of your data at that level, this is a case helpsappens in most of real levelife cases\n",
    "\n",
    "\n",
    "Normality is an assumption in almost all of Statistical algorithms. Thats why its good to transform the numeric feature\n",
    "Square Root/ Cube Root\n",
    "Logarithms \n",
    "Not just that transformation sometime helps us to understand the relationship better, not in every case, "
   ]
  },
  {
   "cell_type": "markdown",
   "metadata": {},
   "source": [
    "Effects of Transformation: If our response feature is skewed, after log transformation, it will give equal importance to all the samples as its normally distributed now, its also called homoscedasticty\n",
    "\n",
    "If our dependednt feature is skewed then log transformation can help to be normally distributed and all the alogorithms can benefit from it"
   ]
  },
  {
   "cell_type": "code",
   "execution_count": 90,
   "metadata": {
    "ExecuteTime": {
     "end_time": "2020-03-13T09:05:02.923837Z",
     "start_time": "2020-03-13T09:05:02.737327Z"
    },
    "cell_style": "split"
   },
   "outputs": [
    {
     "data": {
      "image/png": "[encoded data removed]",
      "text/plain": [
       "<Figure size 432x288 with 1 Axes>"
      ]
     },
     "metadata": {
      "needs_background": "light"
     },
     "output_type": "display_data"
    }
   ],
   "source": [
    "df['AMT_CREDIT'].hist();"
   ]
  },
  {
   "cell_type": "code",
   "execution_count": 91,
   "metadata": {
    "ExecuteTime": {
     "end_time": "2020-03-13T09:05:03.680423Z",
     "start_time": "2020-03-13T09:05:03.525461Z"
    },
    "cell_style": "split",
    "scrolled": false
   },
   "outputs": [
    {
     "data": {
      "image/png": "[encoded data removed]",
      "text/plain": [
       "<Figure size 432x288 with 1 Axes>"
      ]
     },
     "metadata": {
      "needs_background": "light"
     },
     "output_type": "display_data"
    }
   ],
   "source": [
    "np.log(a['AMT_CREDIT']+1).hist();"
   ]
  },
  {
   "cell_type": "markdown",
   "metadata": {},
   "source": [
    "Especially During Scaling/ Standardizing/ Normalizing, we will follow sklearn vocabulary and will save us from using these names interchangeability as it create more confusion. "
   ]
  },
  {
   "cell_type": "markdown",
   "metadata": {},
   "source": [
    "Scaling- It rescale your data and it's used when we want features to be compared on same scale for our algorithm\n",
    "\n",
    "Sklearn has following four scalers primarily\n",
    "\n",
    "1. Minmax scaling\n",
    "2. Robust scalingcaler\n",
    "3. Standard Scaler\n",
    "4. Normalizer"
   ]
  },
  {
   "cell_type": "markdown",
   "metadata": {
    "collapsed": true
   },
   "source": [
    "Why Scaling/ transformations? Becasue they help algorithams to understand the data relationship better \n",
    "\n",
    "\n",
    "When Scaling is required? \n",
    "This is important when using distance based algorithms\n",
    "\n",
    "1. Linear & Logistic Regression\n",
    "2. KMeans/ KNN\n",
    "3. Neural Networks\n",
    "\n",
    "And even other techniques like PCA. But Following is independent of Scaling, as these tecniques doesnt compare the features\n",
    "\n",
    "When Scaling is not required?\n",
    "1. Tree Based Algorithams\n",
    "Decision Tree, Random Forest, Boosted Trees\n",
    "\n"
   ]
  },
  {
   "cell_type": "code",
   "execution_count": 16,
   "metadata": {
    "ExecuteTime": {
     "end_time": "2020-03-22T08:38:13.825006Z",
     "start_time": "2020-03-22T08:38:13.699884Z"
    }
   },
   "outputs": [
    {
     "data": {
      "text/html": [
       "<div>\n",
       "<style scoped>\n",
       "    .dataframe tbody tr th:only-of-type {\n",
       "        vertical-align: middle;\n",
       "    }\n",
       "\n",
       "    .dataframe tbody tr th {\n",
       "        vertical-align: top;\n",
       "    }\n",
       "\n",
       "    .dataframe thead th {\n",
       "        text-align: right;\n",
       "    }\n",
       "</style>\n",
       "<table border=\"1\" class=\"dataframe\">\n",
       "  <thead>\n",
       "    <tr style=\"text-align: right;\">\n",
       "      <th></th>\n",
       "      <th>AMT_INCOME_TOTAL</th>\n",
       "      <th>AMT_CREDIT</th>\n",
       "      <th>DAYS_BIRTH</th>\n",
       "      <th>OWN_CAR_AGE</th>\n",
       "      <th>AMT_GOODS_PRICE</th>\n",
       "      <th>AMT_ANNUITY</th>\n",
       "    </tr>\n",
       "  </thead>\n",
       "  <tbody>\n",
       "    <tr>\n",
       "      <th>count</th>\n",
       "      <td>307511.000000</td>\n",
       "      <td>307511.000000</td>\n",
       "      <td>307511.000000</td>\n",
       "      <td>307511.000000</td>\n",
       "      <td>307511.000000</td>\n",
       "      <td>307511.000000</td>\n",
       "    </tr>\n",
       "    <tr>\n",
       "      <th>mean</th>\n",
       "      <td>0.001224</td>\n",
       "      <td>0.138334</td>\n",
       "      <td>0.481849</td>\n",
       "      <td>0.045076</td>\n",
       "      <td>0.132817</td>\n",
       "      <td>0.105058</td>\n",
       "    </tr>\n",
       "    <tr>\n",
       "      <th>std</th>\n",
       "      <td>0.002027</td>\n",
       "      <td>0.100497</td>\n",
       "      <td>0.245997</td>\n",
       "      <td>0.099006</td>\n",
       "      <td>0.091268</td>\n",
       "      <td>0.056174</td>\n",
       "    </tr>\n",
       "    <tr>\n",
       "      <th>min</th>\n",
       "      <td>0.000000</td>\n",
       "      <td>0.000000</td>\n",
       "      <td>0.000000</td>\n",
       "      <td>0.000000</td>\n",
       "      <td>0.000000</td>\n",
       "      <td>0.000000</td>\n",
       "    </tr>\n",
       "    <tr>\n",
       "      <th>25%</th>\n",
       "      <td>0.000742</td>\n",
       "      <td>0.056180</td>\n",
       "      <td>0.277565</td>\n",
       "      <td>0.000000</td>\n",
       "      <td>0.058889</td>\n",
       "      <td>0.064040</td>\n",
       "    </tr>\n",
       "    <tr>\n",
       "      <th>50%</th>\n",
       "      <td>0.001039</td>\n",
       "      <td>0.116987</td>\n",
       "      <td>0.465671</td>\n",
       "      <td>0.000000</td>\n",
       "      <td>0.111111</td>\n",
       "      <td>0.096514</td>\n",
       "    </tr>\n",
       "    <tr>\n",
       "      <th>75%</th>\n",
       "      <td>0.001512</td>\n",
       "      <td>0.190674</td>\n",
       "      <td>0.687317</td>\n",
       "      <td>0.054945</td>\n",
       "      <td>0.167778</td>\n",
       "      <td>0.134080</td>\n",
       "    </tr>\n",
       "    <tr>\n",
       "      <th>max</th>\n",
       "      <td>1.000000</td>\n",
       "      <td>1.000000</td>\n",
       "      <td>1.000000</td>\n",
       "      <td>1.000000</td>\n",
       "      <td>1.000000</td>\n",
       "      <td>1.000000</td>\n",
       "    </tr>\n",
       "  </tbody>\n",
       "</table>\n",
       "</div>"
      ],
      "text/plain": [
       "       AMT_INCOME_TOTAL     AMT_CREDIT     DAYS_BIRTH    OWN_CAR_AGE  \\\n",
       "count     307511.000000  307511.000000  307511.000000  307511.000000   \n",
       "mean           0.001224       0.138334       0.481849       0.045076   \n",
       "std            0.002027       0.100497       0.245997       0.099006   \n",
       "min            0.000000       0.000000       0.000000       0.000000   \n",
       "25%            0.000742       0.056180       0.277565       0.000000   \n",
       "50%            0.001039       0.116987       0.465671       0.000000   \n",
       "75%            0.001512       0.190674       0.687317       0.054945   \n",
       "max            1.000000       1.000000       1.000000       1.000000   \n",
       "\n",
       "       AMT_GOODS_PRICE    AMT_ANNUITY  \n",
       "count    307511.000000  307511.000000  \n",
       "mean          0.132817       0.105058  \n",
       "std           0.091268       0.056174  \n",
       "min           0.000000       0.000000  \n",
       "25%           0.058889       0.064040  \n",
       "50%           0.111111       0.096514  \n",
       "75%           0.167778       0.134080  \n",
       "max           1.000000       1.000000  "
      ]
     },
     "execution_count": 16,
     "metadata": {},
     "output_type": "execute_result"
    }
   ],
   "source": [
    "mm_scaler = preprocessing.MinMaxScaler()\n",
    "df_mm = pd.DataFrame(mm_scaler.fit_transform(df), columns = cols)\n",
    "\n",
    "df_mm.describe()"
   ]
  },
  {
   "cell_type": "code",
   "execution_count": 17,
   "metadata": {
    "ExecuteTime": {
     "end_time": "2020-03-22T08:38:16.926532Z",
     "start_time": "2020-03-22T08:38:16.199798Z"
    }
   },
   "outputs": [
    {
     "data": {
      "image/png": "[encoded data removed]",
      "text/plain": [
       "<Figure size 1440x504 with 1 Axes>"
      ]
     },
     "metadata": {
      "needs_background": "light"
     },
     "output_type": "display_data"
    }
   ],
   "source": [
    "plt.figure(figsize = (20,7))\n",
    "sns.boxplot(x = 'variable', y = 'value',data =df_mm.melt()).set_title('MinMax Scaler');"
   ]
  },
  {
   "cell_type": "code",
   "execution_count": 18,
   "metadata": {
    "ExecuteTime": {
     "end_time": "2020-03-22T08:38:19.818547Z",
     "start_time": "2020-03-22T08:38:19.063108Z"
    }
   },
   "outputs": [
    {
     "data": {
      "image/png": "[encoded data removed]",
      "text/plain": [
       "<Figure size 1440x504 with 6 Axes>"
      ]
     },
     "metadata": {
      "needs_background": "light"
     },
     "output_type": "display_data"
    }
   ],
   "source": [
    "df_mm.hist(figsize = (20, 7));"
   ]
  },
  {
   "cell_type": "markdown",
   "metadata": {},
   "source": [
    "minmax scaler should be the first choice, as it doesnt change the distribution of the feature and at a same time they all become comparable to each other, they all come in one scale altogether"
   ]
  },
  {
   "cell_type": "markdown",
   "metadata": {},
   "source": [
    "Robust Scaler, is used when your data has high outliers and we wantt to subside their effects. But if thats the case its better to exclude those outliers in the modelling process itself. RobustScaler subtracts the column median and divides by the interquartile range. It may change some "
   ]
  },
  {
   "cell_type": "code",
   "execution_count": 19,
   "metadata": {
    "ExecuteTime": {
     "end_time": "2020-03-22T08:38:24.217077Z",
     "start_time": "2020-03-22T08:38:24.051970Z"
    }
   },
   "outputs": [
    {
     "data": {
      "text/html": [
       "<div>\n",
       "<style scoped>\n",
       "    .dataframe tbody tr th:only-of-type {\n",
       "        vertical-align: middle;\n",
       "    }\n",
       "\n",
       "    .dataframe tbody tr th {\n",
       "        vertical-align: top;\n",
       "    }\n",
       "\n",
       "    .dataframe thead th {\n",
       "        text-align: right;\n",
       "    }\n",
       "</style>\n",
       "<table border=\"1\" class=\"dataframe\">\n",
       "  <thead>\n",
       "    <tr style=\"text-align: right;\">\n",
       "      <th></th>\n",
       "      <th>AMT_INCOME_TOTAL</th>\n",
       "      <th>AMT_CREDIT</th>\n",
       "      <th>DAYS_BIRTH</th>\n",
       "      <th>OWN_CAR_AGE</th>\n",
       "      <th>AMT_GOODS_PRICE</th>\n",
       "      <th>AMT_ANNUITY</th>\n",
       "    </tr>\n",
       "  </thead>\n",
       "  <tbody>\n",
       "    <tr>\n",
       "      <th>count</th>\n",
       "      <td>307511.000000</td>\n",
       "      <td>307511.000000</td>\n",
       "      <td>307511.000000</td>\n",
       "      <td>307511.000000</td>\n",
       "      <td>307511.000000</td>\n",
       "      <td>307511.000000</td>\n",
       "    </tr>\n",
       "    <tr>\n",
       "      <th>mean</th>\n",
       "      <td>0.240532</td>\n",
       "      <td>0.158721</td>\n",
       "      <td>0.039482</td>\n",
       "      <td>0.820376</td>\n",
       "      <td>0.199341</td>\n",
       "      <td>0.121985</td>\n",
       "    </tr>\n",
       "    <tr>\n",
       "      <th>std</th>\n",
       "      <td>2.634702</td>\n",
       "      <td>0.747221</td>\n",
       "      <td>0.600356</td>\n",
       "      <td>1.801903</td>\n",
       "      <td>0.838172</td>\n",
       "      <td>0.802039</td>\n",
       "    </tr>\n",
       "    <tr>\n",
       "      <th>min</th>\n",
       "      <td>-1.350000</td>\n",
       "      <td>-0.869825</td>\n",
       "      <td>-1.136470</td>\n",
       "      <td>0.000000</td>\n",
       "      <td>-1.020408</td>\n",
       "      <td>-1.377988</td>\n",
       "    </tr>\n",
       "    <tr>\n",
       "      <th>25%</th>\n",
       "      <td>-0.385000</td>\n",
       "      <td>-0.452114</td>\n",
       "      <td>-0.459073</td>\n",
       "      <td>0.000000</td>\n",
       "      <td>-0.479592</td>\n",
       "      <td>-0.463645</td>\n",
       "    </tr>\n",
       "    <tr>\n",
       "      <th>50%</th>\n",
       "      <td>0.000000</td>\n",
       "      <td>0.000000</td>\n",
       "      <td>0.000000</td>\n",
       "      <td>0.000000</td>\n",
       "      <td>0.000000</td>\n",
       "      <td>0.000000</td>\n",
       "    </tr>\n",
       "    <tr>\n",
       "      <th>75%</th>\n",
       "      <td>0.615000</td>\n",
       "      <td>0.547886</td>\n",
       "      <td>0.540927</td>\n",
       "      <td>1.000000</td>\n",
       "      <td>0.520408</td>\n",
       "      <td>0.536355</td>\n",
       "    </tr>\n",
       "    <tr>\n",
       "      <th>max</th>\n",
       "      <td>1298.365000</td>\n",
       "      <td>6.565430</td>\n",
       "      <td>1.304031</td>\n",
       "      <td>18.200000</td>\n",
       "      <td>8.163265</td>\n",
       "      <td>12.899651</td>\n",
       "    </tr>\n",
       "  </tbody>\n",
       "</table>\n",
       "</div>"
      ],
      "text/plain": [
       "       AMT_INCOME_TOTAL     AMT_CREDIT     DAYS_BIRTH    OWN_CAR_AGE  \\\n",
       "count     307511.000000  307511.000000  307511.000000  307511.000000   \n",
       "mean           0.240532       0.158721       0.039482       0.820376   \n",
       "std            2.634702       0.747221       0.600356       1.801903   \n",
       "min           -1.350000      -0.869825      -1.136470       0.000000   \n",
       "25%           -0.385000      -0.452114      -0.459073       0.000000   \n",
       "50%            0.000000       0.000000       0.000000       0.000000   \n",
       "75%            0.615000       0.547886       0.540927       1.000000   \n",
       "max         1298.365000       6.565430       1.304031      18.200000   \n",
       "\n",
       "       AMT_GOODS_PRICE    AMT_ANNUITY  \n",
       "count    307511.000000  307511.000000  \n",
       "mean          0.199341       0.121985  \n",
       "std           0.838172       0.802039  \n",
       "min          -1.020408      -1.377988  \n",
       "25%          -0.479592      -0.463645  \n",
       "50%           0.000000       0.000000  \n",
       "75%           0.520408       0.536355  \n",
       "max           8.163265      12.899651  "
      ]
     },
     "execution_count": 19,
     "metadata": {},
     "output_type": "execute_result"
    }
   ],
   "source": [
    "r_scaler = preprocessing.RobustScaler()\n",
    "df_r = pd.DataFrame(r_scaler.fit_transform(df), columns = cols)\n",
    "\n",
    "df_r.describe()\n"
   ]
  },
  {
   "cell_type": "code",
   "execution_count": 20,
   "metadata": {
    "ExecuteTime": {
     "end_time": "2020-03-22T08:38:28.045024Z",
     "start_time": "2020-03-22T08:38:27.323905Z"
    }
   },
   "outputs": [
    {
     "data": {
      "image/png": "[encoded data removed]",
      "text/plain": [
       "<Figure size 1440x504 with 1 Axes>"
      ]
     },
     "metadata": {
      "needs_background": "light"
     },
     "output_type": "display_data"
    }
   ],
   "source": [
    "plt.figure(figsize = (20,7))\n",
    "sns.boxplot(x = 'variable', y = 'value',data =df_r.melt());"
   ]
  },
  {
   "cell_type": "code",
   "execution_count": 21,
   "metadata": {
    "ExecuteTime": {
     "end_time": "2020-03-22T08:38:30.701948Z",
     "start_time": "2020-03-22T08:38:29.950337Z"
    }
   },
   "outputs": [
    {
     "data": {
      "image/png": "[encoded data removed]",
      "text/plain": [
       "<Figure size 1440x504 with 6 Axes>"
      ]
     },
     "metadata": {
      "needs_background": "light"
     },
     "output_type": "display_data"
    }
   ],
   "source": [
    "df_r.hist(figsize = (20, 7));"
   ]
  },
  {
   "cell_type": "markdown",
   "metadata": {},
   "source": [
    "Standard Scaler make our standard deviation equal to 1, it changes the inherent distribution sometimes and also it assumes the feature is normally distributed. StandardScaler is scales each column to have 0 mean and unit variance."
   ]
  },
  {
   "cell_type": "code",
   "execution_count": 22,
   "metadata": {
    "ExecuteTime": {
     "end_time": "2020-03-22T08:38:33.376071Z",
     "start_time": "2020-03-22T08:38:33.236054Z"
    }
   },
   "outputs": [
    {
     "data": {
      "text/html": [
       "<div>\n",
       "<style scoped>\n",
       "    .dataframe tbody tr th:only-of-type {\n",
       "        vertical-align: middle;\n",
       "    }\n",
       "\n",
       "    .dataframe tbody tr th {\n",
       "        vertical-align: top;\n",
       "    }\n",
       "\n",
       "    .dataframe thead th {\n",
       "        text-align: right;\n",
       "    }\n",
       "</style>\n",
       "<table border=\"1\" class=\"dataframe\">\n",
       "  <thead>\n",
       "    <tr style=\"text-align: right;\">\n",
       "      <th></th>\n",
       "      <th>AMT_INCOME_TOTAL</th>\n",
       "      <th>AMT_CREDIT</th>\n",
       "      <th>DAYS_BIRTH</th>\n",
       "      <th>OWN_CAR_AGE</th>\n",
       "      <th>AMT_GOODS_PRICE</th>\n",
       "      <th>AMT_ANNUITY</th>\n",
       "    </tr>\n",
       "  </thead>\n",
       "  <tbody>\n",
       "    <tr>\n",
       "      <th>count</th>\n",
       "      <td>3.075110e+05</td>\n",
       "      <td>3.075110e+05</td>\n",
       "      <td>3.075110e+05</td>\n",
       "      <td>3.075110e+05</td>\n",
       "      <td>3.075110e+05</td>\n",
       "      <td>3.075110e+05</td>\n",
       "    </tr>\n",
       "    <tr>\n",
       "      <th>mean</th>\n",
       "      <td>7.880806e-16</td>\n",
       "      <td>-9.238467e-17</td>\n",
       "      <td>-7.033836e-16</td>\n",
       "      <td>1.177354e-16</td>\n",
       "      <td>1.051149e-16</td>\n",
       "      <td>-5.986469e-17</td>\n",
       "    </tr>\n",
       "    <tr>\n",
       "      <th>std</th>\n",
       "      <td>1.000002e+00</td>\n",
       "      <td>1.000002e+00</td>\n",
       "      <td>1.000002e+00</td>\n",
       "      <td>1.000002e+00</td>\n",
       "      <td>1.000002e+00</td>\n",
       "      <td>1.000002e+00</td>\n",
       "    </tr>\n",
       "    <tr>\n",
       "      <th>min</th>\n",
       "      <td>-6.036870e-01</td>\n",
       "      <td>-1.376496e+00</td>\n",
       "      <td>-1.958761e+00</td>\n",
       "      <td>-4.552838e-01</td>\n",
       "      <td>-1.455252e+00</td>\n",
       "      <td>-1.870204e+00</td>\n",
       "    </tr>\n",
       "    <tr>\n",
       "      <th>25%</th>\n",
       "      <td>-2.374210e-01</td>\n",
       "      <td>-8.174760e-01</td>\n",
       "      <td>-8.304332e-01</td>\n",
       "      <td>-4.552838e-01</td>\n",
       "      <td>-8.100179e-01</td>\n",
       "      <td>-7.301786e-01</td>\n",
       "    </tr>\n",
       "    <tr>\n",
       "      <th>50%</th>\n",
       "      <td>-9.129414e-02</td>\n",
       "      <td>-2.124151e-01</td>\n",
       "      <td>-6.576450e-02</td>\n",
       "      <td>-4.552838e-01</td>\n",
       "      <td>-2.378290e-01</td>\n",
       "      <td>-1.520941e-01</td>\n",
       "    </tr>\n",
       "    <tr>\n",
       "      <th>75%</th>\n",
       "      <td>1.421293e-01</td>\n",
       "      <td>5.208178e-01</td>\n",
       "      <td>8.352476e-01</td>\n",
       "      <td>9.968598e-02</td>\n",
       "      <td>3.830569e-01</td>\n",
       "      <td>5.166460e-01</td>\n",
       "    </tr>\n",
       "    <tr>\n",
       "      <th>max</th>\n",
       "      <td>4.927034e+02</td>\n",
       "      <td>8.574059e+00</td>\n",
       "      <td>2.106335e+00</td>\n",
       "      <td>9.645167e+00</td>\n",
       "      <td>9.501557e+00</td>\n",
       "      <td>1.593151e+01</td>\n",
       "    </tr>\n",
       "  </tbody>\n",
       "</table>\n",
       "</div>"
      ],
      "text/plain": [
       "       AMT_INCOME_TOTAL    AMT_CREDIT    DAYS_BIRTH   OWN_CAR_AGE  \\\n",
       "count      3.075110e+05  3.075110e+05  3.075110e+05  3.075110e+05   \n",
       "mean       7.880806e-16 -9.238467e-17 -7.033836e-16  1.177354e-16   \n",
       "std        1.000002e+00  1.000002e+00  1.000002e+00  1.000002e+00   \n",
       "min       -6.036870e-01 -1.376496e+00 -1.958761e+00 -4.552838e-01   \n",
       "25%       -2.374210e-01 -8.174760e-01 -8.304332e-01 -4.552838e-01   \n",
       "50%       -9.129414e-02 -2.124151e-01 -6.576450e-02 -4.552838e-01   \n",
       "75%        1.421293e-01  5.208178e-01  8.352476e-01  9.968598e-02   \n",
       "max        4.927034e+02  8.574059e+00  2.106335e+00  9.645167e+00   \n",
       "\n",
       "       AMT_GOODS_PRICE   AMT_ANNUITY  \n",
       "count     3.075110e+05  3.075110e+05  \n",
       "mean      1.051149e-16 -5.986469e-17  \n",
       "std       1.000002e+00  1.000002e+00  \n",
       "min      -1.455252e+00 -1.870204e+00  \n",
       "25%      -8.100179e-01 -7.301786e-01  \n",
       "50%      -2.378290e-01 -1.520941e-01  \n",
       "75%       3.830569e-01  5.166460e-01  \n",
       "max       9.501557e+00  1.593151e+01  "
      ]
     },
     "execution_count": 22,
     "metadata": {},
     "output_type": "execute_result"
    }
   ],
   "source": [
    "s_scaler = preprocessing.StandardScaler()\n",
    "df_s = pd.DataFrame(s_scaler.fit_transform(df), columns=cols)\n",
    "df_s.describe()\n",
    "\n"
   ]
  },
  {
   "cell_type": "code",
   "execution_count": 23,
   "metadata": {
    "ExecuteTime": {
     "end_time": "2020-03-22T08:38:34.438543Z",
     "start_time": "2020-03-22T08:38:33.705984Z"
    }
   },
   "outputs": [
    {
     "data": {
      "image/png": "[encoded data removed]",
      "text/plain": [
       "<Figure size 1440x504 with 1 Axes>"
      ]
     },
     "metadata": {
      "needs_background": "light"
     },
     "output_type": "display_data"
    }
   ],
   "source": [
    "plt.figure(figsize = (20,7))\n",
    "sns.boxplot(x = 'variable', y = 'value',data =df_s.melt());"
   ]
  },
  {
   "cell_type": "code",
   "execution_count": 24,
   "metadata": {
    "ExecuteTime": {
     "end_time": "2020-03-22T08:38:39.528631Z",
     "start_time": "2020-03-22T08:38:38.657012Z"
    }
   },
   "outputs": [
    {
     "data": {
      "image/png": "[encoded data removed]",
      "text/plain": [
       "<Figure size 1440x504 with 6 Axes>"
      ]
     },
     "metadata": {
      "needs_background": "light"
     },
     "output_type": "display_data"
    }
   ],
   "source": [
    "df_s.hist(figsize = (20,7));"
   ]
  },
  {
   "cell_type": "markdown",
   "metadata": {},
   "source": [
    "Normalizer is for rows, so sklearn users save yourself for using the word and scaler normalized, it can be used in cases when we are comparing multiple timeseries at same time, i.e. storck movements of multiple stocks"
   ]
  },
  {
   "cell_type": "code",
   "execution_count": 54,
   "metadata": {
    "ExecuteTime": {
     "end_time": "2020-03-13T07:15:12.625946Z",
     "start_time": "2020-03-13T07:15:11.717643Z"
    }
   },
   "outputs": [
    {
     "data": {
      "image/png": "[encoded data removed]",
      "text/plain": [
       "<Figure size 1440x504 with 1 Axes>"
      ]
     },
     "metadata": {
      "needs_background": "light"
     },
     "output_type": "display_data"
    }
   ],
   "source": [
    "n_scaler = preprocessing.Normalizer()\n",
    "df_n = pd.DataFrame(n_scaler.fit_transform(df.fillna(0)), columns = cols)\n",
    "\n",
    "plt.figure(figsize = (20,7))\n",
    "sns.boxplot(x = 'variable', y = 'value',data =df_n.melt());"
   ]
  },
  {
   "cell_type": "code",
   "execution_count": null,
   "metadata": {},
   "outputs": [],
   "source": []
  },
  {
   "cell_type": "code",
   "execution_count": null,
   "metadata": {},
   "outputs": [],
   "source": []
  },
  {
   "cell_type": "markdown",
   "metadata": {},
   "source": [
    "Also, dont forget to use the same scaler model which we fit on the train data and then transform our test set from same fitted model. Never fit your scaler again on the new data"
   ]
  },
  {
   "cell_type": "code",
   "execution_count": 15,
   "metadata": {
    "ExecuteTime": {
     "end_time": "2020-03-21T06:14:14.903934Z",
     "start_time": "2020-03-21T06:14:13.904672Z"
    }
   },
   "outputs": [
    {
     "data": {
      "image/png": "[encoded data removed]",
      "text/plain": [
       "<Figure size 1440x504 with 6 Axes>"
      ]
     },
     "metadata": {
      "needs_background": "light"
     },
     "output_type": "display_data"
    }
   ],
   "source": [
    "df.hist(figsize =(20,7));"
   ]
  },
  {
   "cell_type": "code",
   "execution_count": 16,
   "metadata": {
    "ExecuteTime": {
     "end_time": "2020-03-21T06:14:28.672162Z",
     "start_time": "2020-03-21T06:14:27.889263Z"
    }
   },
   "outputs": [
    {
     "data": {
      "image/png": "[encoded data removed]",
      "text/plain": [
       "<Figure size 1440x504 with 6 Axes>"
      ]
     },
     "metadata": {
      "needs_background": "light"
     },
     "output_type": "display_data"
    }
   ],
   "source": [
    "np.log(df +1).hist(figsize =(20,7));"
   ]
  },
  {
   "cell_type": "markdown",
   "metadata": {},
   "source": [
    "Why bec if we will look at log transformation, its. output is higher for low values and ane very low for hig values. So log transformation of predictor features may or may not improve the modelling relationship"
   ]
  },
  {
   "cell_type": "code",
   "execution_count": 224,
   "metadata": {
    "ExecuteTime": {
     "end_time": "2020-03-13T11:32:01.844042Z",
     "start_time": "2020-03-13T11:32:01.804946Z"
    }
   },
   "outputs": [
    {
     "name": "stdout",
     "output_type": "stream",
     "text": [
      "train set shape: (215257, 6)\n",
      "test set shape: (92254, 6)\n"
     ]
    }
   ],
   "source": [
    "from sklearn.model_selection import train_test_split \n",
    "from sklearn.ensemble import GradientBoostingClassifier\n",
    "from sklearn.linear_model import LogisticRegression\n",
    "from sklearn.metrics import mean_squared_error, confusion_matrix, classification_report, \\\n",
    "                           precision_recall_curve, auc, roc_auc_score, roc_curve, recall_score\n",
    "\n",
    "#df\n",
    "#df_mm\n",
    "#df_r\n",
    "#np.log(df+1)\n",
    "\n",
    "\n",
    "\n",
    "dt = df_r\n",
    "\n",
    "\n",
    "\n",
    "X = dt\n",
    "y = a['TARGET']\n",
    "\n",
    "\n",
    "X_train, X_test, y_train, y_test = train_test_split(X, y, test_size=0.3, random_state = 100)\n",
    "\n",
    "print(\"train set shape: {}\".format(X_train.shape))\n",
    "print(\"test set shape: {}\".format(X_test.shape))"
   ]
  },
  {
   "cell_type": "code",
   "execution_count": 225,
   "metadata": {
    "ExecuteTime": {
     "end_time": "2020-03-13T11:32:04.504862Z",
     "start_time": "2020-03-13T11:32:03.567774Z"
    }
   },
   "outputs": [],
   "source": [
    "smt = SMOTE(random_state=100)\n",
    "X_train, y_train = smt.fit_sample(X_train, y_train)"
   ]
  },
  {
   "cell_type": "code",
   "execution_count": 226,
   "metadata": {
    "ExecuteTime": {
     "end_time": "2020-03-13T11:32:05.118494Z",
     "start_time": "2020-03-13T11:32:05.112463Z"
    }
   },
   "outputs": [
    {
     "data": {
      "text/plain": [
       "0    84743\n",
       "1     7511\n",
       "Name: TARGET, dtype: int64"
      ]
     },
     "execution_count": 226,
     "metadata": {},
     "output_type": "execute_result"
    }
   ],
   "source": [
    "y_test.value_counts()"
   ]
  },
  {
   "cell_type": "code",
   "execution_count": 227,
   "metadata": {
    "ExecuteTime": {
     "end_time": "2020-03-13T11:32:10.770191Z",
     "start_time": "2020-03-13T11:32:10.137173Z"
    }
   },
   "outputs": [
    {
     "name": "stderr",
     "output_type": "stream",
     "text": [
      "/Users/shamanu/anaconda3/lib/python3.6/site-packages/sklearn/linear_model/logistic.py:432: FutureWarning: Default solver will be changed to 'lbfgs' in 0.22. Specify a solver to silence this warning.\n",
      "  FutureWarning)\n"
     ]
    },
    {
     "name": "stdout",
     "output_type": "stream",
     "text": [
      "LogisticRegression(C=1.0, class_weight=None, dual=False, fit_intercept=True,\n",
      "                   intercept_scaling=1, l1_ratio=None, max_iter=100,\n",
      "                   multi_class='warn', n_jobs=None, penalty='l2',\n",
      "                   random_state=100, solver='warn', tol=0.0001, verbose=0,\n",
      "                   warm_start=False)\n",
      "logistic train accuracy : 0.5862091612231805\n",
      "logistic test accuracy : 0.5619160144817569\n"
     ]
    }
   ],
   "source": [
    "logreg = LogisticRegression(random_state = 100)\n",
    "print(logreg.fit(X_train, y_train))\n",
    "\n",
    "print(\"logistic train accuracy :\", logreg.score(X_train, y_train))\n",
    "print(\"logistic test accuracy :\", logreg.score(X_test, y_test))\n",
    "y_pred = logreg.predict(X_test)"
   ]
  },
  {
   "cell_type": "code",
   "execution_count": 228,
   "metadata": {
    "ExecuteTime": {
     "end_time": "2020-03-13T11:32:21.103156Z",
     "start_time": "2020-03-13T11:32:20.983853Z"
    }
   },
   "outputs": [
    {
     "name": "stdout",
     "output_type": "stream",
     "text": [
      "              precision    recall  f1-score   support\n",
      "\n",
      "           0       0.94      0.56      0.70     84743\n",
      "           1       0.11      0.61      0.18      7511\n",
      "\n",
      "    accuracy                           0.56     92254\n",
      "   macro avg       0.53      0.58      0.44     92254\n",
      "weighted avg       0.87      0.56      0.66     92254\n",
      "\n"
     ]
    }
   ],
   "source": [
    "print(classification_report(y_test, y_pred))"
   ]
  },
  {
   "cell_type": "code",
   "execution_count": 229,
   "metadata": {
    "ExecuteTime": {
     "end_time": "2020-03-13T11:32:24.533090Z",
     "start_time": "2020-03-13T11:32:24.516206Z"
    }
   },
   "outputs": [
    {
     "data": {
      "text/plain": [
       "0.5836020193680495"
      ]
     },
     "execution_count": 229,
     "metadata": {},
     "output_type": "execute_result"
    }
   ],
   "source": [
    "roc_auc_score(y_test, y_pred)"
   ]
  },
  {
   "cell_type": "code",
   "execution_count": null,
   "metadata": {},
   "outputs": [],
   "source": []
  },
  {
   "cell_type": "code",
   "execution_count": 230,
   "metadata": {
    "ExecuteTime": {
     "end_time": "2020-03-13T11:35:33.125602Z",
     "start_time": "2020-03-13T11:32:36.808286Z"
    }
   },
   "outputs": [
    {
     "name": "stdout",
     "output_type": "stream",
     "text": [
      "GradientBoostingClassifier(criterion='friedman_mse', init=None,\n",
      "                           learning_rate=0.01, loss='deviance', max_depth=3,\n",
      "                           max_features=None, max_leaf_nodes=None,\n",
      "                           min_impurity_decrease=0.0, min_impurity_split=None,\n",
      "                           min_samples_leaf=1, min_samples_split=2,\n",
      "                           min_weight_fraction_leaf=0.0, n_estimators=500,\n",
      "                           n_iter_no_change=None, presort='auto',\n",
      "                           random_state=100, subsample=0.9, tol=0.0001,\n",
      "                           validation_fraction=0.1, verbose=0,\n",
      "                           warm_start=False)\n",
      "Regression train accuracy : 0.6677705197961029\n",
      "Regression test accuracy : 0.6548550740347302\n"
     ]
    }
   ],
   "source": [
    "params = {'n_estimators': 500,'learning_rate': 0.01, 'loss': 'deviance', 'random_state': 100,'subsample':0.9}\n",
    "\n",
    "gbm = GradientBoostingClassifier(**params)\n",
    "\n",
    "\n",
    "\n",
    "print(gbm.fit(X_train, y_train))\n",
    "\n",
    "\n",
    "print(\"Regression train accuracy :\", gbm.score(X_train, y_train))\n",
    "print(\"Regression test accuracy :\", gbm.score(X_test, y_test))\n",
    "y_pred = gbm.predict(X_test)"
   ]
  },
  {
   "cell_type": "code",
   "execution_count": 231,
   "metadata": {
    "ExecuteTime": {
     "end_time": "2020-03-13T11:35:33.238855Z",
     "start_time": "2020-03-13T11:35:33.126921Z"
    }
   },
   "outputs": [
    {
     "name": "stdout",
     "output_type": "stream",
     "text": [
      "              precision    recall  f1-score   support\n",
      "\n",
      "           0       0.94      0.67      0.78     84743\n",
      "           1       0.12      0.50      0.19      7511\n",
      "\n",
      "    accuracy                           0.65     92254\n",
      "   macro avg       0.53      0.59      0.49     92254\n",
      "weighted avg       0.87      0.65      0.73     92254\n",
      "\n"
     ]
    }
   ],
   "source": [
    "print(classification_report(y_test, y_pred))"
   ]
  },
  {
   "cell_type": "code",
   "execution_count": 232,
   "metadata": {
    "ExecuteTime": {
     "end_time": "2020-03-13T11:35:33.256954Z",
     "start_time": "2020-03-13T11:35:33.240288Z"
    }
   },
   "outputs": [
    {
     "data": {
      "text/plain": [
       "0.5858978721119302"
      ]
     },
     "execution_count": 232,
     "metadata": {},
     "output_type": "execute_result"
    }
   ],
   "source": [
    "roc_auc_score(y_test, y_pred)"
   ]
  },
  {
   "cell_type": "code",
   "execution_count": null,
   "metadata": {},
   "outputs": [],
   "source": []
  }
 ],
 "metadata": {
  "kernelspec": {
   "display_name": "Python 3",
   "language": "python",
   "name": "python3"
  },
  "language_info": {
   "codemirror_mode": {
    "name": "ipython",
    "version": 3
   },
   "file_extension": ".py",
   "mimetype": "text/x-python",
   "name": "python",
   "nbconvert_exporter": "python",
   "pygments_lexer": "ipython3",
   "version": "3.6.7"
  },
  "toc": {
   "base_numbering": 1,
   "nav_menu": {},
   "number_sections": true,
   "sideBar": true,
   "skip_h1_title": false,
   "title_cell": "Table of Contents",
   "title_sidebar": "Contents",
   "toc_cell": false,
   "toc_position": {},
   "toc_section_display": true,
   "toc_window_display": false
  }
 },
 "nbformat": 4,
 "nbformat_minor": 2
}
